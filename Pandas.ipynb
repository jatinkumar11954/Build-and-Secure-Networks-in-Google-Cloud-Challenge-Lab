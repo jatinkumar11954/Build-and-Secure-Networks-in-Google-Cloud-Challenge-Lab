{
  "nbformat": 4,
  "nbformat_minor": 0,
  "metadata": {
    "colab": {
      "name": "Pandas.ipynb",
      "provenance": [],
      "collapsed_sections": [],
      "toc_visible": true,
      "authorship_tag": "ABX9TyMb+bBPVNiuZOf25gzX7/QC",
      "include_colab_link": true
    },
    "kernelspec": {
      "name": "python3",
      "display_name": "Python 3"
    },
    "language_info": {
      "name": "python"
    }
  },
  "cells": [
    {
      "cell_type": "markdown",
      "metadata": {
        "id": "view-in-github",
        "colab_type": "text"
      },
      "source": [
        "<a href=\"https://colab.research.google.com/github/jatinkumar11954/Build-and-Secure-Networks-in-Google-Cloud-Challenge-Lab/blob/main/Pandas.ipynb\" target=\"_parent\"><img src=\"https://colab.research.google.com/assets/colab-badge.svg\" alt=\"Open In Colab\"/></a>"
      ]
    },
    {
      "cell_type": "markdown",
      "source": [
        "1. List Different types of data structures in pandas.\n",
        "\n",
        "Series — 1D  \n",
        "    DataFrame — 2D  \n",
        "    Panel — 3D"
      ],
      "metadata": {
        "id": "dyHRhsZneT_j"
      }
    },
    {
      "cell_type": "markdown",
      "source": [
        "2. What is pandas dataframe? Create a empty dataframe.\n",
        "\n",
        "    A DataFrame is a two-dimensional data structure composed of rows and columns\n"
      ],
      "metadata": {
        "id": "u98RI30Nek3V"
      }
    },
    {
      "cell_type": "code",
      "source": [
        "\n",
        "# import pandas library as pd\n",
        "import pandas as pd\n",
        "  \n",
        "# create an Empty DataFrame object\n",
        "df = pd.DataFrame()\n",
        "  \n",
        "print(df)"
      ],
      "metadata": {
        "colab": {
          "base_uri": "https://localhost:8080/"
        },
        "id": "Ma0cpGDsfbOs",
        "outputId": "598eff5e-4efb-429a-ada1-2b652d0f99f3"
      },
      "execution_count": 1,
      "outputs": [
        {
          "output_type": "stream",
          "name": "stdout",
          "text": [
            "Empty DataFrame\n",
            "Columns: []\n",
            "Index: []\n"
          ]
        }
      ]
    },
    {
      "cell_type": "markdown",
      "source": [
        "3. Explain number of ways to create pandas dataframe\n",
        "\n",
        "    1. Csv or excel file: usings functions as such read_csv, read_excel\n",
        "\n",
        "    2. Numpy arrays:\n",
        "            import pandas as pd\n",
        "            import numpy as np\n",
        "            A = np.random.randint(10, size=(4,3))\n",
        "            print(A)\n",
        "            array([[9, 2, 0],        \n",
        "                  [4, 3, 0],        \n",
        "                  [2, 3, 1],        \n",
        "                  [7, 1, 3]])\n",
        "            df = pd.DataFrame(A)\n",
        "            print(df)\n",
        "\n",
        "    3. Dictionary:\n",
        "\n",
        "            dict_a = {'col_a':[1,2,3,4],'col_b': [2,5,6,7],\n",
        "                          'col_c'['a','b',}\n",
        "            df = pd.DataFrame(dict_a)\n",
        "            df\n",
        "\n",
        "    4. List:\n",
        "            lst_a = [['John', 23, 182, 'A'], ['Jane', 25, 179, 'A'], \n",
        "                    ['Mary',    21, 177, 'B']]\n",
        "            df= pd.DataFrame(lst_a)\n",
        "            df\n"
      ],
      "metadata": {
        "id": "a80E-7hFfuga"
      }
    },
    {
      "cell_type": "markdown",
      "source": [
        "\n",
        "Topic: Rename column and row names\t\n",
        "4. Create a dataframe having details of student and marks obtained in Maths, Chemistry, Physics. (for atleast 12 students.\n",
        "\t(hints: 1. All the index values or names should be unique 2. Ath the column names should be unique.\n",
        "  \n",
        "\t1. print first five rows\n",
        "\t2. print last five rows\n",
        "\t3. print first 2 rows\n",
        "\t4. rename column student name to 'Student_Name' and explain what is inplace parameter.\n",
        "\t5. rename columns maths to 'English'\n",
        "\t6. rename index 6 as 100 (hint: use same function used for column renaming.\n",
        "\t7. rename column English to 'Maths' using axis parameter\n",
        "\t8. rename index 100 as 6 using axis parameter"
      ],
      "metadata": {
        "id": "DoD-DKlIiP00"
      }
    },
    {
      "cell_type": "code",
      "source": [
        "import random\n",
        "\n",
        "studentList=[]\n",
        "for i in range(0,13):\n",
        "  \n",
        "  studentList.append( [chr(i+97),random.randrange(20,50),random.randrange(20,60),random.randrange(20,70) ] )\n",
        "\n",
        "studentdf= pd.DataFrame(studentList,columns=['Name', 'Maths', 'Chemistry', 'Physics'])\n",
        "print(studentdf)\n",
        "print(studentdf.head(5))\n",
        "print(studentdf.tail(5))\n",
        "print(studentdf.head(2))\n",
        "print(studentdf.head(2))\n"
      ],
      "metadata": {
        "colab": {
          "base_uri": "https://localhost:8080/"
        },
        "id": "KIIP7Wh-lyL8",
        "outputId": "7c8cdb4d-020b-4395-c91c-e9bc3a43f9a3"
      },
      "execution_count": 16,
      "outputs": [
        {
          "output_type": "stream",
          "name": "stdout",
          "text": [
            "   Name  Maths  Chemistry  Physics\n",
            "0     a     21         59       58\n",
            "1     b     37         52       66\n",
            "2     c     48         54       61\n",
            "3     d     35         41       61\n",
            "4     e     31         37       47\n",
            "5     f     28         37       55\n",
            "6     g     42         55       33\n",
            "7     h     46         28       23\n",
            "8     i     21         38       67\n",
            "9     j     24         44       67\n",
            "10    k     40         59       26\n",
            "11    l     38         34       63\n",
            "12    m     23         34       30\n"
          ]
        }
      ]
    }
  ]
}